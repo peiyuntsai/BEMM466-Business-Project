{
 "cells": [
  {
   "cell_type": "markdown",
   "metadata": {},
   "source": [
    "Reddit Scrape"
   ]
  },
  {
   "cell_type": "code",
   "execution_count": 1,
   "metadata": {},
   "outputs": [
    {
     "name": "stdout",
     "output_type": "stream",
     "text": [
      "Requirement already satisfied: praw in /opt/anaconda3/lib/python3.11/site-packages (7.7.1)\n",
      "Requirement already satisfied: prawcore<3,>=2.1 in /opt/anaconda3/lib/python3.11/site-packages (from praw) (2.4.0)\n",
      "Requirement already satisfied: update-checker>=0.18 in /opt/anaconda3/lib/python3.11/site-packages (from praw) (0.18.0)\n",
      "Requirement already satisfied: websocket-client>=0.54.0 in /opt/anaconda3/lib/python3.11/site-packages (from praw) (0.58.0)\n",
      "Requirement already satisfied: requests<3.0,>=2.6.0 in /opt/anaconda3/lib/python3.11/site-packages (from prawcore<3,>=2.1->praw) (2.31.0)\n",
      "Requirement already satisfied: six in /opt/anaconda3/lib/python3.11/site-packages (from websocket-client>=0.54.0->praw) (1.16.0)\n",
      "Requirement already satisfied: charset-normalizer<4,>=2 in /opt/anaconda3/lib/python3.11/site-packages (from requests<3.0,>=2.6.0->prawcore<3,>=2.1->praw) (2.0.4)\n",
      "Requirement already satisfied: idna<4,>=2.5 in /opt/anaconda3/lib/python3.11/site-packages (from requests<3.0,>=2.6.0->prawcore<3,>=2.1->praw) (3.4)\n",
      "Requirement already satisfied: urllib3<3,>=1.21.1 in /opt/anaconda3/lib/python3.11/site-packages (from requests<3.0,>=2.6.0->prawcore<3,>=2.1->praw) (2.0.7)\n",
      "Requirement already satisfied: certifi>=2017.4.17 in /opt/anaconda3/lib/python3.11/site-packages (from requests<3.0,>=2.6.0->prawcore<3,>=2.1->praw) (2024.2.2)\n",
      "Note: you may need to restart the kernel to use updated packages.\n"
     ]
    }
   ],
   "source": [
    "pip install praw"
   ]
  },
  {
   "cell_type": "code",
   "execution_count": 2,
   "metadata": {},
   "outputs": [
    {
     "name": "stdout",
     "output_type": "stream",
     "text": [
      "Data has been saved to 'reddit_posts.csv'. Total posts: 987\n",
      "Data has been saved to 'relectriccars.csv'. Total posts: 1880\n"
     ]
    }
   ],
   "source": [
    "import praw\n",
    "\n",
    "# Reddit API \n",
    "reddit = praw.Reddit(\n",
    "    client_id='PiX5OOgasCP_mtmS2JjUrg',  # client_id\n",
    "    client_secret='Yjc8QGuRvTsX_sPyJj92RwkBMM0xpA',  # client_secret\n",
    "    user_agent='stacy5067'  # user_agent\n",
    ")\n",
    "\n",
    "import csv\n",
    "from datetime import datetime\n",
    "\n",
    "subreddit_name = 'electricvehicles'\n",
    "subreddit = reddit.subreddit(subreddit_name)\n",
    "\n",
    "with open('reddit_posts.csv', 'w', newline='', encoding='utf-8') as file:\n",
    "    writer = csv.writer(file)\n",
    "    writer.writerow(['ID', 'Title', 'Content', 'Date'])\n",
    "\n",
    "    post_count = 0\n",
    "    num_posts= 1000\n",
    "\n",
    "    for submission in subreddit.new(limit=num_posts):\n",
    "        post_date = datetime.utcfromtimestamp(submission.created_utc).strftime('%Y-%m-%d %H:%M:%S')\n",
    "        writer.writerow([submission.id, submission.title, submission.selftext, post_date])\n",
    "        post_count += 1\n",
    "\n",
    "print(f\"Data has been saved to 'reddit_posts.csv'. Total posts: {post_count}\")\n",
    "\n",
    "subreddit_name = 'electriccars'\n",
    "subreddit = reddit.subreddit(subreddit_name)\n",
    "\n",
    "with open('relectriccars.csv', 'w', newline='', encoding='utf-8') as file:\n",
    "    writer = csv.writer(file)\n",
    "    writer.writerow(['ID', 'Title', 'Content', 'Date'])\n",
    "\n",
    "    for submission in subreddit.new(limit=num_posts):\n",
    "        post_date = datetime.utcfromtimestamp(submission.created_utc).strftime('%Y-%m-%d %H:%M:%S')  \n",
    "        writer.writerow([submission.id, submission.title, submission.selftext, post_date])\n",
    "        post_count += 1  \n",
    "\n",
    "print(f\"Data has been saved to 'relectriccars.csv'. Total posts: {post_count}\")"
   ]
  },
  {
   "cell_type": "markdown",
   "metadata": {},
   "source": [
    "Merge "
   ]
  },
  {
   "cell_type": "code",
   "execution_count": 3,
   "metadata": {},
   "outputs": [],
   "source": [
    "import pandas as pd\n",
    "\n",
    "df1 = pd.read_csv(\"reddit_posts.csv\")\n",
    "df2 = pd.read_csv(\"relectriccars.csv\")\n",
    "\n",
    "df_merged = pd.concat([df1, df2], ignore_index=True)\n",
    "\n",
    "df_merged.to_csv(\"merged_reddit_postsnew.csv\", index=False)\n"
   ]
  }
 ],
 "metadata": {
  "kernelspec": {
   "display_name": "base",
   "language": "python",
   "name": "python3"
  },
  "language_info": {
   "codemirror_mode": {
    "name": "ipython",
    "version": 3
   },
   "file_extension": ".py",
   "mimetype": "text/x-python",
   "name": "python",
   "nbconvert_exporter": "python",
   "pygments_lexer": "ipython3",
   "version": "3.11.7"
  }
 },
 "nbformat": 4,
 "nbformat_minor": 2
}
